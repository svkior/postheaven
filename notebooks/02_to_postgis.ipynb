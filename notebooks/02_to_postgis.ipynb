{
 "cells": [
  {
   "cell_type": "code",
   "execution_count": 5,
   "metadata": {},
   "outputs": [
    {
     "name": "stdout",
     "output_type": "stream",
     "text": [
      "0...10...20...30...40...50...60...70...80...90...100 - done.\n",
      "ERROR 1: ОШИБКА:  тип \"hstore\" не существует\n",
      "LINE 1: ...\"place\" VARCHAR, \"man_made\" VARCHAR, \"other_tags\" hstore, \"w...\n",
      "                                                             ^\n",
      "\n",
      "ERROR 1: CREATE TABLE \"public\".\"points\" ( \"ogc_fid\" SERIAL, PRIMARY KEY (\"ogc_fid\"), \"osm_id\" VARCHAR, \"name\" VARCHAR, \"barrier\" VARCHAR, \"highway\" VARCHAR, \"ref\" VARCHAR, \"address\" VARCHAR, \"is_in\" VARCHAR, \"place\" VARCHAR, \"man_made\" VARCHAR, \"other_tags\" hstore, \"wkb_geometry\" geometry(POINT,4326) )\n",
      "ОШИБКА:  тип \"hstore\" не существует\n",
      "LINE 1: ...\"place\" VARCHAR, \"man_made\" VARCHAR, \"other_tags\" hstore, \"w...\n",
      "                                                             ^\n",
      "\n",
      "ERROR 1: Unable to write feature 27048976 from layer points.\n",
      "ERROR 1: Terminating translation prematurely after failed\n",
      "translation of layer points (use -skipfailures to skip errors)\n",
      "ERROR 1: ОШИБКА:  текущая транзакция прервана, команды до конца блока транзакции игнорируются\n",
      "\n",
      "ERROR 1: CREATE TABLE \"public\".\"lines\" ( \"ogc_fid\" SERIAL, PRIMARY KEY (\"ogc_fid\"), \"osm_id\" VARCHAR, \"name\" VARCHAR, \"highway\" VARCHAR, \"waterway\" VARCHAR, \"aerialway\" VARCHAR, \"barrier\" VARCHAR, \"man_made\" VARCHAR, \"z_order\" INTEGER, \"other_tags\" hstore, \"wkb_geometry\" geometry(LINESTRING,4326) )\n",
      "ОШИБКА:  текущая транзакция прервана, команды до конца блока транзакции игнорируются\n",
      "\n",
      "ERROR 1: ОШИБКА:  текущая транзакция прервана, команды до конца блока транзакции игнорируются\n",
      "\n",
      "ERROR 1: CREATE TABLE \"public\".\"multilinestrings\" ( \"ogc_fid\" SERIAL, PRIMARY KEY (\"ogc_fid\"), \"osm_id\" VARCHAR, \"name\" VARCHAR, \"type\" VARCHAR, \"other_tags\" hstore, \"wkb_geometry\" geometry(MULTILINESTRING,4326) )\n",
      "ОШИБКА:  текущая транзакция прервана, команды до конца блока транзакции игнорируются\n",
      "\n",
      "ERROR 1: ОШИБКА:  текущая транзакция прервана, команды до конца блока транзакции игнорируются\n",
      "\n",
      "ERROR 1: CREATE TABLE \"public\".\"multipolygons\" ( \"ogc_fid\" SERIAL, PRIMARY KEY (\"ogc_fid\"), \"osm_id\" VARCHAR, \"osm_way_id\" VARCHAR, \"name\" VARCHAR, \"type\" VARCHAR, \"aeroway\" VARCHAR, \"amenity\" VARCHAR, \"admin_level\" VARCHAR, \"barrier\" VARCHAR, \"boundary\" VARCHAR, \"building\" VARCHAR, \"craft\" VARCHAR, \"geological\" VARCHAR, \"historic\" VARCHAR, \"land_area\" VARCHAR, \"landuse\" VARCHAR, \"leisure\" VARCHAR, \"man_made\" VARCHAR, \"military\" VARCHAR, \"natural\" VARCHAR, \"office\" VARCHAR, \"place\" VARCHAR, \"shop\" VARCHAR, \"sport\" VARCHAR, \"tourism\" VARCHAR, \"other_tags\" hstore, \"wkb_geometry\" geometry(MULTIPOLYGON,4326) )\n",
      "ОШИБКА:  текущая транзакция прервана, команды до конца блока транзакции игнорируются\n",
      "\n",
      "ERROR 1: ОШИБКА:  текущая транзакция прервана, команды до конца блока транзакции игнорируются\n",
      "\n",
      "ERROR 1: CREATE TABLE \"public\".\"other_relations\" ( \"ogc_fid\" SERIAL, PRIMARY KEY (\"ogc_fid\"), \"osm_id\" VARCHAR, \"name\" VARCHAR, \"type\" VARCHAR, \"other_tags\" hstore, \"wkb_geometry\" geometry(GEOMETRYCOLLECTION,4326) )\n",
      "ОШИБКА:  текущая транзакция прервана, команды до конца блока транзакции игнорируются\n",
      "\n"
     ]
    }
   ],
   "source": [
    "!ogr2ogr -lco COLUMN_TYPES=other_tags=hstore -f \"PostgreSQL\" \"PG:host=postgis user=postgres dbname=postgeo password=secret port=5432\" kaliningrad.osm.pbf"
   ]
  },
  {
   "cell_type": "code",
   "execution_count": null,
   "metadata": {},
   "outputs": [],
   "source": []
  }
 ],
 "metadata": {
  "kernelspec": {
   "display_name": "Python 3 (ipykernel)",
   "language": "python",
   "name": "python3"
  },
  "language_info": {
   "codemirror_mode": {
    "name": "ipython",
    "version": 3
   },
   "file_extension": ".py",
   "mimetype": "text/x-python",
   "name": "python",
   "nbconvert_exporter": "python",
   "pygments_lexer": "ipython3",
   "version": "3.9.16"
  },
  "orig_nbformat": 4
 },
 "nbformat": 4,
 "nbformat_minor": 2
}
