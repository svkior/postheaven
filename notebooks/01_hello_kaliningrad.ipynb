{
 "cells": [
  {
   "cell_type": "code",
   "execution_count": 1,
   "metadata": {},
   "outputs": [],
   "source": [
    "from ipywidgets import IntProgress, IntText, VBox\n",
    "import requests"
   ]
  },
  {
   "cell_type": "code",
   "execution_count": 2,
   "metadata": {},
   "outputs": [],
   "source": [
    "def Download(link, file_name):\n",
    "    max_count = 100\n",
    "\n",
    "    f = IntProgress(min=0, max=max_count) # instantiate the bar\n",
    "    t = IntText(\n",
    "        value=7,\n",
    "        description='Any:',\n",
    "        disabled=False\n",
    "    )\n",
    "    vb = VBox([f,t])\n",
    "    display(vb)\n",
    "\n",
    "    with open(file_name, \"wb\") as f:\n",
    "        print(\"Downloading %s\" % file_name)\n",
    "        response = requests.get(link, stream=True)\n",
    "        total_length = response.headers.get('content-length')\n",
    "\n",
    "        if total_length is None: # no content length header\n",
    "            f.write(response.content)\n",
    "        else:\n",
    "            dl = 0\n",
    "            total_length = int(total_length)\n",
    "            for data in response.iter_content(chunk_size=4096):\n",
    "                dl += len(data)\n",
    "                f.write(data)\n",
    "                done = int(max_count * dl / total_length)\n",
    "                f.value = done\n",
    "                t.value = done"
   ]
  },
  {
   "cell_type": "code",
   "execution_count": 3,
   "metadata": {},
   "outputs": [
    {
     "data": {
      "application/vnd.jupyter.widget-view+json": {
       "model_id": "57cf2f83b1df4285909219056dbaf6dd",
       "version_major": 2,
       "version_minor": 0
      },
      "text/plain": [
       "VBox(children=(IntProgress(value=0), IntText(value=7, description='Any:')))"
      ]
     },
     "metadata": {},
     "output_type": "display_data"
    },
    {
     "name": "stdout",
     "output_type": "stream",
     "text": [
      "Downloading kaliningrad.osm.pbf\n"
     ]
    }
   ],
   "source": [
    "Download(\"http://download.geofabrik.de/russia/kaliningrad-latest.osm.pbf\", \"kaliningrad.osm.pbf\")"
   ]
  }
 ],
 "metadata": {
  "kernelspec": {
   "display_name": "Python 3 (ipykernel)",
   "language": "python",
   "name": "python3"
  },
  "language_info": {
   "codemirror_mode": {
    "name": "ipython",
    "version": 3
   },
   "file_extension": ".py",
   "mimetype": "text/x-python",
   "name": "python",
   "nbconvert_exporter": "python",
   "pygments_lexer": "ipython3",
   "version": "3.9.16"
  },
  "orig_nbformat": 4
 },
 "nbformat": 4,
 "nbformat_minor": 2
}
